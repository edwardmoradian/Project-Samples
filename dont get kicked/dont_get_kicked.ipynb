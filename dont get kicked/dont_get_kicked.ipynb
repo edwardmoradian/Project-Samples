{
 "cells": [
  {
   "cell_type": "code",
   "execution_count": 673,
   "id": "9bb0893e-a02d-4991-9b84-75b1e67a693f",
   "metadata": {},
   "outputs": [],
   "source": [
    "import numpy as np\n",
    "import sklearn as sk\n",
    "from sklearn import preprocessing\n",
    "from sklearn.metrics import precision_recall_curve\n",
    "from sklearn.metrics import RocCurveDisplay, PrecisionRecallDisplay\n",
    "from sklearn.model_selection  import train_test_split\n",
    "import pandas as pd\n",
    "import matplotlib.pyplot as plt\n",
    "import seaborn as sns\n",
    "import xgboost as xgb"
   ]
  },
  {
   "cell_type": "code",
   "execution_count": 674,
   "id": "bd30e971-43bf-4d9a-9ba2-eac40bfd16f8",
   "metadata": {},
   "outputs": [],
   "source": [
    "pd.set_option('display.max_columns', None)"
   ]
  },
  {
   "cell_type": "code",
   "execution_count": 675,
   "id": "e2d5f265-7fa2-49b9-b319-fae3bbc58e4c",
   "metadata": {},
   "outputs": [],
   "source": [
    "df_test = pd.read_csv('C:/Users/Edward.Moradian/OneDrive - Microsoft/Desktop/Home/Practice/kaggle/kicked/test.csv')"
   ]
  },
  {
   "cell_type": "code",
   "execution_count": 676,
   "id": "097a271c-d8f8-4beb-9502-36d80214d462",
   "metadata": {},
   "outputs": [],
   "source": [
    "df_training = pd.read_csv('C:/Users/Edward.Moradian/OneDrive - Microsoft/Desktop/Home/Practice/kaggle/kicked/training.csv')"
   ]
  },
  {
   "cell_type": "code",
   "execution_count": 677,
   "id": "5574dfff-ca59-4205-a8a1-80c239215af2",
   "metadata": {},
   "outputs": [
    {
     "data": {
      "text/html": [
       "<div>\n",
       "<style scoped>\n",
       "    .dataframe tbody tr th:only-of-type {\n",
       "        vertical-align: middle;\n",
       "    }\n",
       "\n",
       "    .dataframe tbody tr th {\n",
       "        vertical-align: top;\n",
       "    }\n",
       "\n",
       "    .dataframe thead th {\n",
       "        text-align: right;\n",
       "    }\n",
       "</style>\n",
       "<table border=\"1\" class=\"dataframe\">\n",
       "  <thead>\n",
       "    <tr style=\"text-align: right;\">\n",
       "      <th></th>\n",
       "      <th>RefId</th>\n",
       "      <th>IsBadBuy</th>\n",
       "      <th>PurchDate</th>\n",
       "      <th>Auction</th>\n",
       "      <th>VehYear</th>\n",
       "      <th>VehicleAge</th>\n",
       "      <th>Make</th>\n",
       "      <th>Model</th>\n",
       "      <th>Trim</th>\n",
       "      <th>SubModel</th>\n",
       "      <th>Color</th>\n",
       "      <th>Transmission</th>\n",
       "      <th>WheelTypeID</th>\n",
       "      <th>WheelType</th>\n",
       "      <th>VehOdo</th>\n",
       "      <th>Nationality</th>\n",
       "      <th>Size</th>\n",
       "      <th>TopThreeAmericanName</th>\n",
       "      <th>MMRAcquisitionAuctionAveragePrice</th>\n",
       "      <th>MMRAcquisitionAuctionCleanPrice</th>\n",
       "      <th>MMRAcquisitionRetailAveragePrice</th>\n",
       "      <th>MMRAcquisitonRetailCleanPrice</th>\n",
       "      <th>MMRCurrentAuctionAveragePrice</th>\n",
       "      <th>MMRCurrentAuctionCleanPrice</th>\n",
       "      <th>MMRCurrentRetailAveragePrice</th>\n",
       "      <th>MMRCurrentRetailCleanPrice</th>\n",
       "      <th>PRIMEUNIT</th>\n",
       "      <th>AUCGUART</th>\n",
       "      <th>BYRNO</th>\n",
       "      <th>VNZIP1</th>\n",
       "      <th>VNST</th>\n",
       "      <th>VehBCost</th>\n",
       "      <th>IsOnlineSale</th>\n",
       "      <th>WarrantyCost</th>\n",
       "    </tr>\n",
       "  </thead>\n",
       "  <tbody>\n",
       "    <tr>\n",
       "      <th>0</th>\n",
       "      <td>1</td>\n",
       "      <td>0</td>\n",
       "      <td>12/7/2009</td>\n",
       "      <td>ADESA</td>\n",
       "      <td>2006</td>\n",
       "      <td>3</td>\n",
       "      <td>MAZDA</td>\n",
       "      <td>MAZDA3</td>\n",
       "      <td>i</td>\n",
       "      <td>4D SEDAN I</td>\n",
       "      <td>RED</td>\n",
       "      <td>AUTO</td>\n",
       "      <td>1.0</td>\n",
       "      <td>Alloy</td>\n",
       "      <td>89046</td>\n",
       "      <td>OTHER ASIAN</td>\n",
       "      <td>MEDIUM</td>\n",
       "      <td>OTHER</td>\n",
       "      <td>8155.0</td>\n",
       "      <td>9829.0</td>\n",
       "      <td>11636.0</td>\n",
       "      <td>13600.0</td>\n",
       "      <td>7451.0</td>\n",
       "      <td>8552.0</td>\n",
       "      <td>11597.0</td>\n",
       "      <td>12409.0</td>\n",
       "      <td>NaN</td>\n",
       "      <td>NaN</td>\n",
       "      <td>21973</td>\n",
       "      <td>33619</td>\n",
       "      <td>FL</td>\n",
       "      <td>7100.0</td>\n",
       "      <td>0</td>\n",
       "      <td>1113</td>\n",
       "    </tr>\n",
       "    <tr>\n",
       "      <th>1</th>\n",
       "      <td>2</td>\n",
       "      <td>0</td>\n",
       "      <td>12/7/2009</td>\n",
       "      <td>ADESA</td>\n",
       "      <td>2004</td>\n",
       "      <td>5</td>\n",
       "      <td>DODGE</td>\n",
       "      <td>1500 RAM PICKUP 2WD</td>\n",
       "      <td>ST</td>\n",
       "      <td>QUAD CAB 4.7L SLT</td>\n",
       "      <td>WHITE</td>\n",
       "      <td>AUTO</td>\n",
       "      <td>1.0</td>\n",
       "      <td>Alloy</td>\n",
       "      <td>93593</td>\n",
       "      <td>AMERICAN</td>\n",
       "      <td>LARGE TRUCK</td>\n",
       "      <td>CHRYSLER</td>\n",
       "      <td>6854.0</td>\n",
       "      <td>8383.0</td>\n",
       "      <td>10897.0</td>\n",
       "      <td>12572.0</td>\n",
       "      <td>7456.0</td>\n",
       "      <td>9222.0</td>\n",
       "      <td>11374.0</td>\n",
       "      <td>12791.0</td>\n",
       "      <td>NaN</td>\n",
       "      <td>NaN</td>\n",
       "      <td>19638</td>\n",
       "      <td>33619</td>\n",
       "      <td>FL</td>\n",
       "      <td>7600.0</td>\n",
       "      <td>0</td>\n",
       "      <td>1053</td>\n",
       "    </tr>\n",
       "    <tr>\n",
       "      <th>2</th>\n",
       "      <td>3</td>\n",
       "      <td>0</td>\n",
       "      <td>12/7/2009</td>\n",
       "      <td>ADESA</td>\n",
       "      <td>2005</td>\n",
       "      <td>4</td>\n",
       "      <td>DODGE</td>\n",
       "      <td>STRATUS V6</td>\n",
       "      <td>SXT</td>\n",
       "      <td>4D SEDAN SXT FFV</td>\n",
       "      <td>MAROON</td>\n",
       "      <td>AUTO</td>\n",
       "      <td>2.0</td>\n",
       "      <td>Covers</td>\n",
       "      <td>73807</td>\n",
       "      <td>AMERICAN</td>\n",
       "      <td>MEDIUM</td>\n",
       "      <td>CHRYSLER</td>\n",
       "      <td>3202.0</td>\n",
       "      <td>4760.0</td>\n",
       "      <td>6943.0</td>\n",
       "      <td>8457.0</td>\n",
       "      <td>4035.0</td>\n",
       "      <td>5557.0</td>\n",
       "      <td>7146.0</td>\n",
       "      <td>8702.0</td>\n",
       "      <td>NaN</td>\n",
       "      <td>NaN</td>\n",
       "      <td>19638</td>\n",
       "      <td>33619</td>\n",
       "      <td>FL</td>\n",
       "      <td>4900.0</td>\n",
       "      <td>0</td>\n",
       "      <td>1389</td>\n",
       "    </tr>\n",
       "    <tr>\n",
       "      <th>3</th>\n",
       "      <td>4</td>\n",
       "      <td>0</td>\n",
       "      <td>12/7/2009</td>\n",
       "      <td>ADESA</td>\n",
       "      <td>2004</td>\n",
       "      <td>5</td>\n",
       "      <td>DODGE</td>\n",
       "      <td>NEON</td>\n",
       "      <td>SXT</td>\n",
       "      <td>4D SEDAN</td>\n",
       "      <td>SILVER</td>\n",
       "      <td>AUTO</td>\n",
       "      <td>1.0</td>\n",
       "      <td>Alloy</td>\n",
       "      <td>65617</td>\n",
       "      <td>AMERICAN</td>\n",
       "      <td>COMPACT</td>\n",
       "      <td>CHRYSLER</td>\n",
       "      <td>1893.0</td>\n",
       "      <td>2675.0</td>\n",
       "      <td>4658.0</td>\n",
       "      <td>5690.0</td>\n",
       "      <td>1844.0</td>\n",
       "      <td>2646.0</td>\n",
       "      <td>4375.0</td>\n",
       "      <td>5518.0</td>\n",
       "      <td>NaN</td>\n",
       "      <td>NaN</td>\n",
       "      <td>19638</td>\n",
       "      <td>33619</td>\n",
       "      <td>FL</td>\n",
       "      <td>4100.0</td>\n",
       "      <td>0</td>\n",
       "      <td>630</td>\n",
       "    </tr>\n",
       "    <tr>\n",
       "      <th>4</th>\n",
       "      <td>5</td>\n",
       "      <td>0</td>\n",
       "      <td>12/7/2009</td>\n",
       "      <td>ADESA</td>\n",
       "      <td>2005</td>\n",
       "      <td>4</td>\n",
       "      <td>FORD</td>\n",
       "      <td>FOCUS</td>\n",
       "      <td>ZX3</td>\n",
       "      <td>2D COUPE ZX3</td>\n",
       "      <td>SILVER</td>\n",
       "      <td>MANUAL</td>\n",
       "      <td>2.0</td>\n",
       "      <td>Covers</td>\n",
       "      <td>69367</td>\n",
       "      <td>AMERICAN</td>\n",
       "      <td>COMPACT</td>\n",
       "      <td>FORD</td>\n",
       "      <td>3913.0</td>\n",
       "      <td>5054.0</td>\n",
       "      <td>7723.0</td>\n",
       "      <td>8707.0</td>\n",
       "      <td>3247.0</td>\n",
       "      <td>4384.0</td>\n",
       "      <td>6739.0</td>\n",
       "      <td>7911.0</td>\n",
       "      <td>NaN</td>\n",
       "      <td>NaN</td>\n",
       "      <td>19638</td>\n",
       "      <td>33619</td>\n",
       "      <td>FL</td>\n",
       "      <td>4000.0</td>\n",
       "      <td>0</td>\n",
       "      <td>1020</td>\n",
       "    </tr>\n",
       "    <tr>\n",
       "      <th>...</th>\n",
       "      <td>...</td>\n",
       "      <td>...</td>\n",
       "      <td>...</td>\n",
       "      <td>...</td>\n",
       "      <td>...</td>\n",
       "      <td>...</td>\n",
       "      <td>...</td>\n",
       "      <td>...</td>\n",
       "      <td>...</td>\n",
       "      <td>...</td>\n",
       "      <td>...</td>\n",
       "      <td>...</td>\n",
       "      <td>...</td>\n",
       "      <td>...</td>\n",
       "      <td>...</td>\n",
       "      <td>...</td>\n",
       "      <td>...</td>\n",
       "      <td>...</td>\n",
       "      <td>...</td>\n",
       "      <td>...</td>\n",
       "      <td>...</td>\n",
       "      <td>...</td>\n",
       "      <td>...</td>\n",
       "      <td>...</td>\n",
       "      <td>...</td>\n",
       "      <td>...</td>\n",
       "      <td>...</td>\n",
       "      <td>...</td>\n",
       "      <td>...</td>\n",
       "      <td>...</td>\n",
       "      <td>...</td>\n",
       "      <td>...</td>\n",
       "      <td>...</td>\n",
       "      <td>...</td>\n",
       "    </tr>\n",
       "    <tr>\n",
       "      <th>72978</th>\n",
       "      <td>73010</td>\n",
       "      <td>1</td>\n",
       "      <td>12/2/2009</td>\n",
       "      <td>ADESA</td>\n",
       "      <td>2001</td>\n",
       "      <td>8</td>\n",
       "      <td>MERCURY</td>\n",
       "      <td>SABLE</td>\n",
       "      <td>GS</td>\n",
       "      <td>4D SEDAN GS</td>\n",
       "      <td>BLACK</td>\n",
       "      <td>AUTO</td>\n",
       "      <td>1.0</td>\n",
       "      <td>Alloy</td>\n",
       "      <td>45234</td>\n",
       "      <td>AMERICAN</td>\n",
       "      <td>MEDIUM</td>\n",
       "      <td>FORD</td>\n",
       "      <td>1996.0</td>\n",
       "      <td>2993.0</td>\n",
       "      <td>2656.0</td>\n",
       "      <td>3732.0</td>\n",
       "      <td>2190.0</td>\n",
       "      <td>3055.0</td>\n",
       "      <td>4836.0</td>\n",
       "      <td>5937.0</td>\n",
       "      <td>NaN</td>\n",
       "      <td>NaN</td>\n",
       "      <td>18111</td>\n",
       "      <td>30212</td>\n",
       "      <td>GA</td>\n",
       "      <td>4200.0</td>\n",
       "      <td>0</td>\n",
       "      <td>993</td>\n",
       "    </tr>\n",
       "    <tr>\n",
       "      <th>72979</th>\n",
       "      <td>73011</td>\n",
       "      <td>0</td>\n",
       "      <td>12/2/2009</td>\n",
       "      <td>ADESA</td>\n",
       "      <td>2007</td>\n",
       "      <td>2</td>\n",
       "      <td>CHEVROLET</td>\n",
       "      <td>MALIBU 4C</td>\n",
       "      <td>LS</td>\n",
       "      <td>4D SEDAN LS</td>\n",
       "      <td>SILVER</td>\n",
       "      <td>AUTO</td>\n",
       "      <td>NaN</td>\n",
       "      <td>NaN</td>\n",
       "      <td>71759</td>\n",
       "      <td>AMERICAN</td>\n",
       "      <td>MEDIUM</td>\n",
       "      <td>GM</td>\n",
       "      <td>6418.0</td>\n",
       "      <td>7325.0</td>\n",
       "      <td>7431.0</td>\n",
       "      <td>8411.0</td>\n",
       "      <td>6785.0</td>\n",
       "      <td>8132.0</td>\n",
       "      <td>10151.0</td>\n",
       "      <td>11652.0</td>\n",
       "      <td>NaN</td>\n",
       "      <td>NaN</td>\n",
       "      <td>18881</td>\n",
       "      <td>30212</td>\n",
       "      <td>GA</td>\n",
       "      <td>6200.0</td>\n",
       "      <td>0</td>\n",
       "      <td>1038</td>\n",
       "    </tr>\n",
       "    <tr>\n",
       "      <th>72980</th>\n",
       "      <td>73012</td>\n",
       "      <td>0</td>\n",
       "      <td>12/2/2009</td>\n",
       "      <td>ADESA</td>\n",
       "      <td>2005</td>\n",
       "      <td>4</td>\n",
       "      <td>JEEP</td>\n",
       "      <td>GRAND CHEROKEE 2WD V</td>\n",
       "      <td>Lar</td>\n",
       "      <td>4D WAGON LAREDO</td>\n",
       "      <td>SILVER</td>\n",
       "      <td>AUTO</td>\n",
       "      <td>1.0</td>\n",
       "      <td>Alloy</td>\n",
       "      <td>88500</td>\n",
       "      <td>AMERICAN</td>\n",
       "      <td>MEDIUM SUV</td>\n",
       "      <td>CHRYSLER</td>\n",
       "      <td>8545.0</td>\n",
       "      <td>9959.0</td>\n",
       "      <td>9729.0</td>\n",
       "      <td>11256.0</td>\n",
       "      <td>8375.0</td>\n",
       "      <td>9802.0</td>\n",
       "      <td>11831.0</td>\n",
       "      <td>14402.0</td>\n",
       "      <td>NaN</td>\n",
       "      <td>NaN</td>\n",
       "      <td>18111</td>\n",
       "      <td>30212</td>\n",
       "      <td>GA</td>\n",
       "      <td>8200.0</td>\n",
       "      <td>0</td>\n",
       "      <td>1893</td>\n",
       "    </tr>\n",
       "    <tr>\n",
       "      <th>72981</th>\n",
       "      <td>73013</td>\n",
       "      <td>0</td>\n",
       "      <td>12/2/2009</td>\n",
       "      <td>ADESA</td>\n",
       "      <td>2006</td>\n",
       "      <td>3</td>\n",
       "      <td>CHEVROLET</td>\n",
       "      <td>IMPALA</td>\n",
       "      <td>LS</td>\n",
       "      <td>4D SEDAN LS</td>\n",
       "      <td>WHITE</td>\n",
       "      <td>AUTO</td>\n",
       "      <td>1.0</td>\n",
       "      <td>Alloy</td>\n",
       "      <td>79554</td>\n",
       "      <td>AMERICAN</td>\n",
       "      <td>LARGE</td>\n",
       "      <td>GM</td>\n",
       "      <td>6420.0</td>\n",
       "      <td>7604.0</td>\n",
       "      <td>7434.0</td>\n",
       "      <td>8712.0</td>\n",
       "      <td>6590.0</td>\n",
       "      <td>7684.0</td>\n",
       "      <td>10099.0</td>\n",
       "      <td>11228.0</td>\n",
       "      <td>NaN</td>\n",
       "      <td>NaN</td>\n",
       "      <td>18881</td>\n",
       "      <td>30212</td>\n",
       "      <td>GA</td>\n",
       "      <td>7000.0</td>\n",
       "      <td>0</td>\n",
       "      <td>1974</td>\n",
       "    </tr>\n",
       "    <tr>\n",
       "      <th>72982</th>\n",
       "      <td>73014</td>\n",
       "      <td>0</td>\n",
       "      <td>12/2/2009</td>\n",
       "      <td>ADESA</td>\n",
       "      <td>2006</td>\n",
       "      <td>3</td>\n",
       "      <td>MAZDA</td>\n",
       "      <td>MAZDA6</td>\n",
       "      <td>s</td>\n",
       "      <td>4D SEDAN S</td>\n",
       "      <td>SILVER</td>\n",
       "      <td>AUTO</td>\n",
       "      <td>1.0</td>\n",
       "      <td>Alloy</td>\n",
       "      <td>66855</td>\n",
       "      <td>OTHER ASIAN</td>\n",
       "      <td>MEDIUM</td>\n",
       "      <td>OTHER</td>\n",
       "      <td>7535.0</td>\n",
       "      <td>8771.0</td>\n",
       "      <td>8638.0</td>\n",
       "      <td>9973.0</td>\n",
       "      <td>7730.0</td>\n",
       "      <td>9102.0</td>\n",
       "      <td>11954.0</td>\n",
       "      <td>13246.0</td>\n",
       "      <td>NaN</td>\n",
       "      <td>NaN</td>\n",
       "      <td>18111</td>\n",
       "      <td>30212</td>\n",
       "      <td>GA</td>\n",
       "      <td>8000.0</td>\n",
       "      <td>0</td>\n",
       "      <td>1313</td>\n",
       "    </tr>\n",
       "  </tbody>\n",
       "</table>\n",
       "<p>72983 rows × 34 columns</p>\n",
       "</div>"
      ],
      "text/plain": [
       "       RefId  IsBadBuy  PurchDate Auction  VehYear  VehicleAge       Make  \\\n",
       "0          1         0  12/7/2009   ADESA     2006           3      MAZDA   \n",
       "1          2         0  12/7/2009   ADESA     2004           5      DODGE   \n",
       "2          3         0  12/7/2009   ADESA     2005           4      DODGE   \n",
       "3          4         0  12/7/2009   ADESA     2004           5      DODGE   \n",
       "4          5         0  12/7/2009   ADESA     2005           4       FORD   \n",
       "...      ...       ...        ...     ...      ...         ...        ...   \n",
       "72978  73010         1  12/2/2009   ADESA     2001           8    MERCURY   \n",
       "72979  73011         0  12/2/2009   ADESA     2007           2  CHEVROLET   \n",
       "72980  73012         0  12/2/2009   ADESA     2005           4       JEEP   \n",
       "72981  73013         0  12/2/2009   ADESA     2006           3  CHEVROLET   \n",
       "72982  73014         0  12/2/2009   ADESA     2006           3      MAZDA   \n",
       "\n",
       "                      Model Trim           SubModel   Color Transmission  \\\n",
       "0                    MAZDA3    i         4D SEDAN I     RED         AUTO   \n",
       "1       1500 RAM PICKUP 2WD   ST  QUAD CAB 4.7L SLT   WHITE         AUTO   \n",
       "2                STRATUS V6  SXT   4D SEDAN SXT FFV  MAROON         AUTO   \n",
       "3                      NEON  SXT           4D SEDAN  SILVER         AUTO   \n",
       "4                     FOCUS  ZX3       2D COUPE ZX3  SILVER       MANUAL   \n",
       "...                     ...  ...                ...     ...          ...   \n",
       "72978                 SABLE   GS        4D SEDAN GS   BLACK         AUTO   \n",
       "72979             MALIBU 4C   LS        4D SEDAN LS  SILVER         AUTO   \n",
       "72980  GRAND CHEROKEE 2WD V  Lar    4D WAGON LAREDO  SILVER         AUTO   \n",
       "72981                IMPALA   LS        4D SEDAN LS   WHITE         AUTO   \n",
       "72982                MAZDA6    s         4D SEDAN S  SILVER         AUTO   \n",
       "\n",
       "       WheelTypeID WheelType  VehOdo  Nationality         Size  \\\n",
       "0              1.0     Alloy   89046  OTHER ASIAN       MEDIUM   \n",
       "1              1.0     Alloy   93593     AMERICAN  LARGE TRUCK   \n",
       "2              2.0    Covers   73807     AMERICAN       MEDIUM   \n",
       "3              1.0     Alloy   65617     AMERICAN      COMPACT   \n",
       "4              2.0    Covers   69367     AMERICAN      COMPACT   \n",
       "...            ...       ...     ...          ...          ...   \n",
       "72978          1.0     Alloy   45234     AMERICAN       MEDIUM   \n",
       "72979          NaN       NaN   71759     AMERICAN       MEDIUM   \n",
       "72980          1.0     Alloy   88500     AMERICAN   MEDIUM SUV   \n",
       "72981          1.0     Alloy   79554     AMERICAN        LARGE   \n",
       "72982          1.0     Alloy   66855  OTHER ASIAN       MEDIUM   \n",
       "\n",
       "      TopThreeAmericanName  MMRAcquisitionAuctionAveragePrice  \\\n",
       "0                    OTHER                             8155.0   \n",
       "1                 CHRYSLER                             6854.0   \n",
       "2                 CHRYSLER                             3202.0   \n",
       "3                 CHRYSLER                             1893.0   \n",
       "4                     FORD                             3913.0   \n",
       "...                    ...                                ...   \n",
       "72978                 FORD                             1996.0   \n",
       "72979                   GM                             6418.0   \n",
       "72980             CHRYSLER                             8545.0   \n",
       "72981                   GM                             6420.0   \n",
       "72982                OTHER                             7535.0   \n",
       "\n",
       "       MMRAcquisitionAuctionCleanPrice  MMRAcquisitionRetailAveragePrice  \\\n",
       "0                               9829.0                           11636.0   \n",
       "1                               8383.0                           10897.0   \n",
       "2                               4760.0                            6943.0   \n",
       "3                               2675.0                            4658.0   \n",
       "4                               5054.0                            7723.0   \n",
       "...                                ...                               ...   \n",
       "72978                           2993.0                            2656.0   \n",
       "72979                           7325.0                            7431.0   \n",
       "72980                           9959.0                            9729.0   \n",
       "72981                           7604.0                            7434.0   \n",
       "72982                           8771.0                            8638.0   \n",
       "\n",
       "       MMRAcquisitonRetailCleanPrice  MMRCurrentAuctionAveragePrice  \\\n",
       "0                            13600.0                         7451.0   \n",
       "1                            12572.0                         7456.0   \n",
       "2                             8457.0                         4035.0   \n",
       "3                             5690.0                         1844.0   \n",
       "4                             8707.0                         3247.0   \n",
       "...                              ...                            ...   \n",
       "72978                         3732.0                         2190.0   \n",
       "72979                         8411.0                         6785.0   \n",
       "72980                        11256.0                         8375.0   \n",
       "72981                         8712.0                         6590.0   \n",
       "72982                         9973.0                         7730.0   \n",
       "\n",
       "       MMRCurrentAuctionCleanPrice  MMRCurrentRetailAveragePrice  \\\n",
       "0                           8552.0                       11597.0   \n",
       "1                           9222.0                       11374.0   \n",
       "2                           5557.0                        7146.0   \n",
       "3                           2646.0                        4375.0   \n",
       "4                           4384.0                        6739.0   \n",
       "...                            ...                           ...   \n",
       "72978                       3055.0                        4836.0   \n",
       "72979                       8132.0                       10151.0   \n",
       "72980                       9802.0                       11831.0   \n",
       "72981                       7684.0                       10099.0   \n",
       "72982                       9102.0                       11954.0   \n",
       "\n",
       "       MMRCurrentRetailCleanPrice PRIMEUNIT AUCGUART  BYRNO  VNZIP1 VNST  \\\n",
       "0                         12409.0       NaN      NaN  21973   33619   FL   \n",
       "1                         12791.0       NaN      NaN  19638   33619   FL   \n",
       "2                          8702.0       NaN      NaN  19638   33619   FL   \n",
       "3                          5518.0       NaN      NaN  19638   33619   FL   \n",
       "4                          7911.0       NaN      NaN  19638   33619   FL   \n",
       "...                           ...       ...      ...    ...     ...  ...   \n",
       "72978                      5937.0       NaN      NaN  18111   30212   GA   \n",
       "72979                     11652.0       NaN      NaN  18881   30212   GA   \n",
       "72980                     14402.0       NaN      NaN  18111   30212   GA   \n",
       "72981                     11228.0       NaN      NaN  18881   30212   GA   \n",
       "72982                     13246.0       NaN      NaN  18111   30212   GA   \n",
       "\n",
       "       VehBCost  IsOnlineSale  WarrantyCost  \n",
       "0        7100.0             0          1113  \n",
       "1        7600.0             0          1053  \n",
       "2        4900.0             0          1389  \n",
       "3        4100.0             0           630  \n",
       "4        4000.0             0          1020  \n",
       "...         ...           ...           ...  \n",
       "72978    4200.0             0           993  \n",
       "72979    6200.0             0          1038  \n",
       "72980    8200.0             0          1893  \n",
       "72981    7000.0             0          1974  \n",
       "72982    8000.0             0          1313  \n",
       "\n",
       "[72983 rows x 34 columns]"
      ]
     },
     "execution_count": 677,
     "metadata": {},
     "output_type": "execute_result"
    }
   ],
   "source": [
    "df_training"
   ]
  },
  {
   "cell_type": "code",
   "execution_count": 678,
   "id": "dc0766eb-1e57-493d-8867-29dff669ec92",
   "metadata": {},
   "outputs": [
    {
     "data": {
      "text/plain": [
       "RefId                                  int64\n",
       "IsBadBuy                               int64\n",
       "PurchDate                             object\n",
       "Auction                               object\n",
       "VehYear                                int64\n",
       "VehicleAge                             int64\n",
       "Make                                  object\n",
       "Model                                 object\n",
       "Trim                                  object\n",
       "SubModel                              object\n",
       "Color                                 object\n",
       "Transmission                          object\n",
       "WheelTypeID                          float64\n",
       "WheelType                             object\n",
       "VehOdo                                 int64\n",
       "Nationality                           object\n",
       "Size                                  object\n",
       "TopThreeAmericanName                  object\n",
       "MMRAcquisitionAuctionAveragePrice    float64\n",
       "MMRAcquisitionAuctionCleanPrice      float64\n",
       "MMRAcquisitionRetailAveragePrice     float64\n",
       "MMRAcquisitonRetailCleanPrice        float64\n",
       "MMRCurrentAuctionAveragePrice        float64\n",
       "MMRCurrentAuctionCleanPrice          float64\n",
       "MMRCurrentRetailAveragePrice         float64\n",
       "MMRCurrentRetailCleanPrice           float64\n",
       "PRIMEUNIT                             object\n",
       "AUCGUART                              object\n",
       "BYRNO                                  int64\n",
       "VNZIP1                                 int64\n",
       "VNST                                  object\n",
       "VehBCost                             float64\n",
       "IsOnlineSale                           int64\n",
       "WarrantyCost                           int64\n",
       "dtype: object"
      ]
     },
     "execution_count": 678,
     "metadata": {},
     "output_type": "execute_result"
    }
   ],
   "source": [
    "df_training.dtypes"
   ]
  },
  {
   "cell_type": "code",
   "execution_count": 679,
   "id": "66d25a22-2a66-4c0b-8ad2-ec418af225dc",
   "metadata": {},
   "outputs": [],
   "source": [
    "df_training['IsBadBuy'] = df_training['IsBadBuy'].astype('str')\n",
    "df_training['RefId'] = df_training['RefId'].astype('str')\n",
    "df_training['VehYear'] = df_training['VehYear'].astype('str')\n",
    "df_training['WheelTypeID'] = df_training['WheelTypeID'].astype('str')\n",
    "df_training['BYRNO'] = df_training['BYRNO'].astype('str')\n",
    "df_training['VNZIP1'] = df_training['VNZIP1'].astype('str')\n",
    "df_training['IsOnlineSale'] = df_training['IsOnlineSale'].astype('str')\n"
   ]
  },
  {
   "cell_type": "code",
   "execution_count": 680,
   "id": "ead53779-7368-4dee-b62d-cad72ad51562",
   "metadata": {},
   "outputs": [
    {
     "data": {
      "text/plain": [
       "array(['0', '1'], dtype=object)"
      ]
     },
     "execution_count": 680,
     "metadata": {},
     "output_type": "execute_result"
    }
   ],
   "source": [
    "df_training['IsBadBuy'].unique()"
   ]
  },
  {
   "cell_type": "code",
   "execution_count": 681,
   "id": "a94b9edb-e71c-486f-aa97-24dc4165a4e3",
   "metadata": {},
   "outputs": [],
   "source": [
    "df_training.loc[df_training.loc[:,'IsBadBuy'] == 'nan','IsBadBuy'] = None"
   ]
  },
  {
   "cell_type": "code",
   "execution_count": 682,
   "id": "2758f6cf-56e9-4562-900c-fc74c198ee97",
   "metadata": {},
   "outputs": [
    {
     "data": {
      "text/plain": [
       "Series([], Name: IsBadBuy, dtype: object)"
      ]
     },
     "execution_count": 682,
     "metadata": {},
     "output_type": "execute_result"
    }
   ],
   "source": [
    "df_training.loc[df_training['IsBadBuy'].isna(),'IsBadBuy']"
   ]
  },
  {
   "cell_type": "markdown",
   "id": "0f9c86d9-9890-42af-b501-5cf139ce0b99",
   "metadata": {},
   "source": [
    "## Exploratory Data Analysis"
   ]
  },
  {
   "cell_type": "code",
   "execution_count": 683,
   "id": "e6e9bff5-5e55-4f8c-9525-bedef1bf48e8",
   "metadata": {},
   "outputs": [
    {
     "data": {
      "text/plain": [
       "0    64007\n",
       "1     8976\n",
       "Name: IsBadBuy, dtype: int64"
      ]
     },
     "execution_count": 683,
     "metadata": {},
     "output_type": "execute_result"
    }
   ],
   "source": [
    "df_training['IsBadBuy'].value_counts(dropna=False)"
   ]
  },
  {
   "cell_type": "code",
   "execution_count": 684,
   "id": "c479b309-da58-4394-a110-4e5ddf780cd0",
   "metadata": {},
   "outputs": [
    {
     "data": {
      "text/plain": [
       "0    0.877012\n",
       "1    0.122988\n",
       "Name: IsBadBuy, dtype: float64"
      ]
     },
     "execution_count": 684,
     "metadata": {},
     "output_type": "execute_result"
    }
   ],
   "source": [
    "df_training['IsBadBuy'].value_counts(normalize=True,dropna=False)"
   ]
  },
  {
   "cell_type": "code",
   "execution_count": 685,
   "id": "9f6ba366-8383-4cfe-969b-5985f356b0cc",
   "metadata": {},
   "outputs": [
    {
     "data": {
      "text/plain": [
       "<AxesSubplot:ylabel='IsBadBuy'>"
      ]
     },
     "execution_count": 685,
     "metadata": {},
     "output_type": "execute_result"
    },
    {
     "data": {
      "image/png": "[encoded data removed]",
      "text/plain": [
       "<Figure size 576x432 with 1 Axes>"
      ]
     },
     "metadata": {},
     "output_type": "display_data"
    }
   ],
   "source": [
    "df_training['IsBadBuy'].value_counts(normalize=True,dropna=False).plot(kind='pie',autopct='%.1f',figsize=(8,6))"
   ]
  },
  {
   "cell_type": "code",
   "execution_count": 686,
   "id": "28e299c0-f45d-4c5c-aa38-753051d57109",
   "metadata": {},
   "outputs": [
    {
     "data": {
      "text/plain": [
       "Index(['AUCGUART', 'Auction', 'BYRNO', 'Color', 'IsBadBuy', 'IsOnlineSale',\n",
       "       'MMRAcquisitionAuctionAveragePrice', 'MMRAcquisitionAuctionCleanPrice',\n",
       "       'MMRAcquisitionRetailAveragePrice', 'MMRAcquisitonRetailCleanPrice',\n",
       "       'MMRCurrentAuctionAveragePrice', 'MMRCurrentAuctionCleanPrice',\n",
       "       'MMRCurrentRetailAveragePrice', 'MMRCurrentRetailCleanPrice', 'Make',\n",
       "       'Model', 'Nationality', 'PRIMEUNIT', 'PurchDate', 'RefId', 'Size',\n",
       "       'SubModel', 'TopThreeAmericanName', 'Transmission', 'Trim', 'VNST',\n",
       "       'VNZIP1', 'VehBCost', 'VehOdo', 'VehYear', 'VehicleAge', 'WarrantyCost',\n",
       "       'WheelType', 'WheelTypeID'],\n",
       "      dtype='object')"
      ]
     },
     "execution_count": 686,
     "metadata": {},
     "output_type": "execute_result"
    }
   ],
   "source": [
    "df_training.columns.sort_values()"
   ]
  },
  {
   "cell_type": "code",
   "execution_count": 687,
   "id": "b4345c7b-92ee-4e80-8403-1cf1d2d0c4d6",
   "metadata": {},
   "outputs": [
    {
     "data": {
      "text/plain": [
       "<zip at 0x2243a74ef00>"
      ]
     },
     "execution_count": 687,
     "metadata": {},
     "output_type": "execute_result"
    }
   ],
   "source": [
    "df_training.dtypes.items()"
   ]
  },
  {
   "cell_type": "code",
   "execution_count": 688,
   "id": "23a736d8-9c9a-4581-87ec-e23f8a9dfe94",
   "metadata": {},
   "outputs": [],
   "source": [
    "dim_cols = df_training.loc[:,df_training.dtypes == 'object'].columns\n",
    "fact_cols = df_training.loc[:,df_training.dtypes != 'object'].columns"
   ]
  },
  {
   "cell_type": "code",
   "execution_count": 689,
   "id": "ce96ccfd-7dc9-452d-83ef-afccc18c8033",
   "metadata": {},
   "outputs": [
    {
     "data": {
      "text/plain": [
       "Index(['VehicleAge', 'VehOdo', 'MMRAcquisitionAuctionAveragePrice',\n",
       "       'MMRAcquisitionAuctionCleanPrice', 'MMRAcquisitionRetailAveragePrice',\n",
       "       'MMRAcquisitonRetailCleanPrice', 'MMRCurrentAuctionAveragePrice',\n",
       "       'MMRCurrentAuctionCleanPrice', 'MMRCurrentRetailAveragePrice',\n",
       "       'MMRCurrentRetailCleanPrice', 'VehBCost', 'WarrantyCost'],\n",
       "      dtype='object')"
      ]
     },
     "execution_count": 689,
     "metadata": {},
     "output_type": "execute_result"
    }
   ],
   "source": [
    "fact_cols"
   ]
  },
  {
   "cell_type": "code",
   "execution_count": 690,
   "id": "d0870435-cbf2-4624-a014-3ef7a6ee647a",
   "metadata": {},
   "outputs": [
    {
     "data": {
      "text/plain": [
       "Index(['RefId', 'IsBadBuy', 'PurchDate', 'Auction', 'VehYear', 'Make', 'Model',\n",
       "       'Trim', 'SubModel', 'Color', 'Transmission', 'WheelTypeID', 'WheelType',\n",
       "       'Nationality', 'Size', 'TopThreeAmericanName', 'PRIMEUNIT', 'AUCGUART',\n",
       "       'BYRNO', 'VNZIP1', 'VNST', 'IsOnlineSale'],\n",
       "      dtype='object')"
      ]
     },
     "execution_count": 690,
     "metadata": {},
     "output_type": "execute_result"
    }
   ],
   "source": [
    "dim_cols"
   ]
  },
  {
   "cell_type": "code",
   "execution_count": 691,
   "id": "000dc2d5-27dd-4fa4-b85e-73f2f90f7969",
   "metadata": {
    "collapsed": true,
    "jupyter": {
     "outputs_hidden": true
    },
    "tags": []
   },
   "outputs": [
    {
     "data": {
      "image/png": "[encoded data removed]",
      "text/plain": [
       "<Figure size 2160x504 with 1 Axes>"
      ]
     },
     "metadata": {
      "needs_background": "light"
     },
     "output_type": "display_data"
    },
    {
     "data": {
      "image/png": "[encoded data removed]",
      "text/plain": [
       "<Figure size 2160x504 with 1 Axes>"
      ]
     },
     "metadata": {
      "needs_background": "light"
     },
     "output_type": "display_data"
    },
    {
     "data": {
      "image/png": "[encoded data removed]",
      "text/plain": [
       "<Figure size 2160x504 with 1 Axes>"
      ]
     },
     "metadata": {
      "needs_background": "light"
     },
     "output_type": "display_data"
    },
    {
     "data": {
      "image/png": "[encoded data removed]",
      "text/plain": [
       "<Figure size 2160x504 with 1 Axes>"
      ]
     },
     "metadata": {
      "needs_background": "light"
     },
     "output_type": "display_data"
    },
    {
     "data": {
      "image/png": "[encoded data removed]",
      "text/plain": [
       "<Figure size 2160x504 with 1 Axes>"
      ]
     },
     "metadata": {
      "needs_background": "light"
     },
     "output_type": "display_data"
    },
    {
     "data": {
      "image/png": "[encoded data removed]",
      "text/plain": [
       "<Figure size 2160x504 with 1 Axes>"
      ]
     },
     "metadata": {
      "needs_background": "light"
     },
     "output_type": "display_data"
    },
    {
     "data": {
      "image/png": "[encoded data removed]",
      "text/plain": [
       "<Figure size 2160x504 with 1 Axes>"
      ]
     },
     "metadata": {
      "needs_background": "light"
     },
     "output_type": "display_data"
    },
    {
     "data": {
      "image/png": "[encoded data removed]",
      "text/plain": [
       "<Figure size 2160x504 with 1 Axes>"
      ]
     },
     "metadata": {
      "needs_background": "light"
     },
     "output_type": "display_data"
    },
    {
     "data": {
      "image/png": "[encoded data removed]",
      "text/plain": [
       "<Figure size 2160x504 with 1 Axes>"
      ]
     },
     "metadata": {
      "needs_background": "light"
     },
     "output_type": "display_data"
    },
    {
     "data": {
      "image/png": "[encoded data removed]",
      "text/plain": [
       "<Figure size 2160x504 with 1 Axes>"
      ]
     },
     "metadata": {
      "needs_background": "light"
     },
     "output_type": "display_data"
    },
    {
     "data": {
      "image/png": "[encoded data removed]",
      "text/plain": [
       "<Figure size 2160x504 with 1 Axes>"
      ]
     },
     "metadata": {
      "needs_background": "light"
     },
     "output_type": "display_data"
    },
    {
     "data": {
      "image/png": "[encoded data removed]",
      "text/plain": [
       "<Figure size 2160x504 with 1 Axes>"
      ]
     },
     "metadata": {
      "needs_background": "light"
     },
     "output_type": "display_data"
    }
   ],
   "source": [
    "for feature in fact_cols.values:\n",
    "    plt.figure(figsize=(30,7))\n",
    "    plt.xticks(rotation='vertical')\n",
    "    sns.boxplot(x='IsBadBuy',y=feature,data=df_training, palette='rainbow') #,showfliers=False)\n",
    "    plt.title(feature + \" by IsBadBuy\")"
   ]
  },
  {
   "cell_type": "code",
   "execution_count": 692,
   "id": "ef2ca23b-f8d5-4427-be8e-209f094a01f5",
   "metadata": {},
   "outputs": [
    {
     "data": {
      "text/plain": [
       "0    0.001767\n",
       "1    0.001767\n",
       "Name: IsOnlineSale, dtype: float64"
      ]
     },
     "execution_count": 692,
     "metadata": {},
     "output_type": "execute_result"
    }
   ],
   "source": [
    "sig_diff"
   ]
  },
  {
   "cell_type": "code",
   "execution_count": 693,
   "id": "e4980dab-02eb-491b-9bca-c911bc96d6bf",
   "metadata": {},
   "outputs": [
    {
     "data": {
      "text/plain": [
       "<bound method IndexOpsMixin.nunique of 0               4D SEDAN I\n",
       "1        QUAD CAB 4.7L SLT\n",
       "2         4D SEDAN SXT FFV\n",
       "3                 4D SEDAN\n",
       "4             2D COUPE ZX3\n",
       "               ...        \n",
       "72978          4D SEDAN GS\n",
       "72979          4D SEDAN LS\n",
       "72980      4D WAGON LAREDO\n",
       "72981          4D SEDAN LS\n",
       "72982           4D SEDAN S\n",
       "Name: SubModel, Length: 72983, dtype: object>"
      ]
     },
     "execution_count": 693,
     "metadata": {},
     "output_type": "execute_result"
    }
   ],
   "source": [
    "df_training['SubModel'].nunique"
   ]
  },
  {
   "cell_type": "code",
   "execution_count": 755,
   "id": "5fcff96e-0818-4d1a-b91d-312f42d3c6a4",
   "metadata": {
    "tags": []
   },
   "outputs": [
    {
     "name": "stdout",
     "output_type": "stream",
     "text": [
      "--- RefId ---\n",
      "72983\n",
      "Series([], Name: RefId, dtype: float64)\n",
      "\n",
      "--- IsBadBuy ---\n",
      "2\n",
      "Series([], Name: IsBadBuy, dtype: float64)\n",
      "\n",
      "--- PurchDate ---\n",
      "517\n",
      "Series([], Name: PurchDate, dtype: float64)\n",
      "\n",
      "--- Auction ---\n",
      "3\n",
      "0    0.052995\n",
      "1    0.042273\n",
      "2    0.010722\n",
      "Name: Auction, dtype: float64\n",
      "\n",
      "--- VehYear ---\n",
      "10\n",
      "0    0.030977\n",
      "1    0.050714\n",
      "2    0.056422\n",
      "3    0.042132\n",
      "4    0.016139\n",
      "5    0.063017\n",
      "6    0.065661\n",
      "7    0.058659\n",
      "Name: VehYear, dtype: float64\n",
      "\n",
      "--- Make ---\n",
      "33\n",
      "3    0.055931\n",
      "5    0.032395\n",
      "6    0.044668\n",
      "Name: Make, dtype: float64\n",
      "\n",
      "--- Model ---\n",
      "1063\n",
      "477    0.010892\n",
      "487    0.011257\n",
      "718    0.018999\n",
      "885    0.010401\n",
      "Name: Model, dtype: float64\n",
      "\n",
      "--- Trim ---\n",
      "135\n",
      "55     0.045385\n",
      "56     0.021643\n",
      "98     0.011741\n",
      "115    0.012081\n",
      "134    0.010639\n",
      "Name: Trim, dtype: float64\n",
      "\n",
      "--- SubModel ---\n",
      "864\n",
      "232    0.027344\n",
      "292    0.013154\n",
      "Name: SubModel, dtype: float64\n",
      "\n",
      "--- Color ---\n",
      "17\n",
      "1    0.010166\n",
      "2    0.010614\n",
      "4    0.011897\n",
      "Name: Color, dtype: float64\n",
      "\n",
      "--- Transmission ---\n",
      "4\n",
      "Series([], Name: Transmission, dtype: float64)\n",
      "\n",
      "--- WheelTypeID ---\n",
      "5\n",
      "1    0.056999\n",
      "2    0.178362\n",
      "4    0.234532\n",
      "Name: WheelTypeID, dtype: float64\n",
      "\n",
      "--- WheelType ---\n",
      "4\n",
      "0    0.056999\n",
      "1    0.178362\n",
      "3    0.234581\n",
      "Name: WheelType, dtype: float64\n",
      "\n",
      "--- Nationality ---\n",
      "5\n",
      "0    0.015077\n",
      "Name: Nationality, dtype: float64\n",
      "\n",
      "--- Size ---\n",
      "13\n",
      "0    0.032885\n",
      "2    0.034354\n",
      "5    0.031145\n",
      "6    0.025156\n",
      "Name: Size, dtype: float64\n",
      "\n",
      "--- TopThreeAmericanName ---\n",
      "5\n",
      "0    0.019409\n",
      "1    0.052262\n",
      "2    0.047930\n",
      "3    0.015155\n",
      "Name: TopThreeAmericanName, dtype: float64\n",
      "\n",
      "--- PRIMEUNIT ---\n",
      "3\n",
      "2    0.036521\n",
      "0    0.036314\n",
      "Name: PRIMEUNIT, dtype: float64\n",
      "\n",
      "--- AUCGUART ---\n",
      "3\n",
      "2    0.036521\n",
      "0    0.036303\n",
      "Name: AUCGUART, dtype: float64\n",
      "\n",
      "--- BYRNO ---\n",
      "74\n",
      "37    0.012668\n",
      "46    0.010430\n",
      "47    0.014897\n",
      "54    0.012027\n",
      "71    0.031413\n",
      "73    0.033529\n",
      "Name: BYRNO, dtype: float64\n",
      "\n",
      "--- VNZIP1 ---\n",
      "153\n",
      "18    0.011230\n",
      "41    0.013711\n",
      "89    0.018604\n",
      "Name: VNZIP1, dtype: float64\n",
      "\n",
      "--- VNST ---\n",
      "37\n",
      "5     0.018147\n",
      "27    0.014103\n",
      "32    0.026024\n",
      "Name: VNST, dtype: float64\n",
      "\n",
      "--- IsOnlineSale ---\n",
      "2\n",
      "Series([], Name: IsOnlineSale, dtype: float64)\n",
      "\n"
     ]
    }
   ],
   "source": [
    "for dim in dim_cols:\n",
    "    print('--- '+dim+' ---')\n",
    "    print(df_training[dim].nunique())\n",
    "    sig_diff = abs(df_training.loc[df_training.loc[:,'IsBadBuy'] == 1,dim].value_counts(normalize=True,dropna=False) - df_training.loc[df_training.loc[:,'IsBadBuy'] == 0,dim].value_counts(normalize=True,dropna=False))\n",
    "    print((sig_diff[sig_diff > .01]))\n",
    "    print()"
   ]
  },
  {
   "cell_type": "markdown",
   "id": "3b575f9e-ce77-4ac2-beaf-2d19b0cd952d",
   "metadata": {},
   "source": [
    "## Modeling"
   ]
  },
  {
   "cell_type": "code",
   "execution_count": 695,
   "id": "f80f62b3-3332-4358-b689-860c49c2bcec",
   "metadata": {},
   "outputs": [],
   "source": [
    "features = df_training.columns.copy().drop('IsBadBuy')\n",
    "target = 'IsBadBuy'"
   ]
  },
  {
   "cell_type": "code",
   "execution_count": 696,
   "id": "71ed832f-471b-46b5-b9de-2a559126ac83",
   "metadata": {},
   "outputs": [
    {
     "data": {
      "text/plain": [
       "Index(['RefId', 'IsBadBuy', 'PurchDate', 'Auction', 'VehYear', 'Make', 'Model',\n",
       "       'Trim', 'SubModel', 'Color', 'Transmission', 'WheelTypeID', 'WheelType',\n",
       "       'Nationality', 'Size', 'TopThreeAmericanName', 'PRIMEUNIT', 'AUCGUART',\n",
       "       'BYRNO', 'VNZIP1', 'VNST', 'IsOnlineSale'],\n",
       "      dtype='object')"
      ]
     },
     "execution_count": 696,
     "metadata": {},
     "output_type": "execute_result"
    }
   ],
   "source": [
    "dim_cols"
   ]
  },
  {
   "cell_type": "code",
   "execution_count": 697,
   "id": "3320b67b-851e-44c3-bf97-eefa113982d0",
   "metadata": {},
   "outputs": [
    {
     "data": {
      "text/plain": [
       "Index(['AUCGUART', 'Auction', 'BYRNO', 'Color', 'IsBadBuy', 'IsOnlineSale',\n",
       "       'MMRAcquisitionAuctionAveragePrice', 'MMRAcquisitionAuctionCleanPrice',\n",
       "       'MMRAcquisitionRetailAveragePrice', 'MMRAcquisitonRetailCleanPrice',\n",
       "       'MMRCurrentAuctionAveragePrice', 'MMRCurrentAuctionCleanPrice',\n",
       "       'MMRCurrentRetailAveragePrice', 'MMRCurrentRetailCleanPrice', 'Make',\n",
       "       'Model', 'Nationality', 'PRIMEUNIT', 'PurchDate', 'RefId', 'Size',\n",
       "       'SubModel', 'TopThreeAmericanName', 'Transmission', 'Trim', 'VNST',\n",
       "       'VNZIP1', 'VehBCost', 'VehOdo', 'VehYear', 'VehicleAge', 'WarrantyCost',\n",
       "       'WheelType', 'WheelTypeID'],\n",
       "      dtype='object')"
      ]
     },
     "execution_count": 697,
     "metadata": {},
     "output_type": "execute_result"
    }
   ],
   "source": [
    "df_training.columns.sort_values()"
   ]
  },
  {
   "cell_type": "code",
   "execution_count": 698,
   "id": "354587db-8f2d-46bb-85c1-f6242a85d866",
   "metadata": {},
   "outputs": [],
   "source": [
    "dim_cols_2 = dim_cols.copy().drop('IsBadBuy')"
   ]
  },
  {
   "cell_type": "code",
   "execution_count": 699,
   "id": "19c0e44a-0010-44c4-a204-ab7293d3986b",
   "metadata": {},
   "outputs": [],
   "source": [
    "labelencoder = preprocessing.LabelEncoder()\n",
    "for col in dim_cols:\n",
    "    df_training[col] = labelencoder.fit_transform(df_training[col])\n",
    "for col in dim_cols_2:\n",
    "    df_test[col] = labelencoder.fit_transform(df_test[col])"
   ]
  },
  {
   "cell_type": "code",
   "execution_count": 701,
   "id": "b9cdc36e-8d31-482c-89cc-c77712685e4d",
   "metadata": {},
   "outputs": [
    {
     "data": {
      "text/plain": [
       "array([0, 1])"
      ]
     },
     "execution_count": 701,
     "metadata": {},
     "output_type": "execute_result"
    }
   ],
   "source": [
    "df_training['IsBadBuy'].unique()"
   ]
  },
  {
   "cell_type": "code",
   "execution_count": 702,
   "id": "5f3a3b8f-0fa1-46ee-a921-185772d20b98",
   "metadata": {},
   "outputs": [],
   "source": [
    "# df_training.loc[df_training.loc[:,'IsBadBuy'] == 'nan','IsBadBuy'] = None"
   ]
  },
  {
   "cell_type": "code",
   "execution_count": 703,
   "id": "e9a66fe0-85c6-496e-b2cd-4772b3b3ba23",
   "metadata": {},
   "outputs": [
    {
     "data": {
      "text/plain": [
       "Series([], Name: IsBadBuy, dtype: int32)"
      ]
     },
     "execution_count": 703,
     "metadata": {},
     "output_type": "execute_result"
    }
   ],
   "source": [
    "df_training.loc[df_training['IsBadBuy'].isna(),'IsBadBuy']"
   ]
  },
  {
   "cell_type": "code",
   "execution_count": 709,
   "id": "086ccfe3-d82f-4a05-8cc4-ba28ab0cc858",
   "metadata": {},
   "outputs": [],
   "source": [
    "X = df_training.loc[:,features]\n",
    "y = df_training.loc[:,target]\n",
    "X_train, X_test, y_train, y_test = train_test_split(X, y, test_size=.25, random_state=25)"
   ]
  },
  {
   "cell_type": "code",
   "execution_count": 710,
   "id": "a0c9e741-4bf5-417f-b0f4-c420158a8949",
   "metadata": {},
   "outputs": [],
   "source": [
    "model = xgb.XGBClassifier(use_label_encoder=False,enable_categorical=False)\n"
   ]
  },
  {
   "cell_type": "code",
   "execution_count": 711,
   "id": "410e02f5-18d8-44cb-bc78-c8cddf99b265",
   "metadata": {},
   "outputs": [
    {
     "data": {
      "text/html": [
       "<style>#sk-container-id-6 {color: black;background-color: white;}#sk-container-id-6 pre{padding: 0;}#sk-container-id-6 div.sk-toggleable {background-color: white;}#sk-container-id-6 label.sk-toggleable__label {cursor: pointer;display: block;width: 100%;margin-bottom: 0;padding: 0.3em;box-sizing: border-box;text-align: center;}#sk-container-id-6 label.sk-toggleable__label-arrow:before {content: \"▸\";float: left;margin-right: 0.25em;color: #696969;}#sk-container-id-6 label.sk-toggleable__label-arrow:hover:before {color: black;}#sk-container-id-6 div.sk-estimator:hover label.sk-toggleable__label-arrow:before {color: black;}#sk-container-id-6 div.sk-toggleable__content {max-height: 0;max-width: 0;overflow: hidden;text-align: left;background-color: #f0f8ff;}#sk-container-id-6 div.sk-toggleable__content pre {margin: 0.2em;color: black;border-radius: 0.25em;background-color: #f0f8ff;}#sk-container-id-6 input.sk-toggleable__control:checked~div.sk-toggleable__content {max-height: 200px;max-width: 100%;overflow: auto;}#sk-container-id-6 input.sk-toggleable__control:checked~label.sk-toggleable__label-arrow:before {content: \"▾\";}#sk-container-id-6 div.sk-estimator input.sk-toggleable__control:checked~label.sk-toggleable__label {background-color: #d4ebff;}#sk-container-id-6 div.sk-label input.sk-toggleable__control:checked~label.sk-toggleable__label {background-color: #d4ebff;}#sk-container-id-6 input.sk-hidden--visually {border: 0;clip: rect(1px 1px 1px 1px);clip: rect(1px, 1px, 1px, 1px);height: 1px;margin: -1px;overflow: hidden;padding: 0;position: absolute;width: 1px;}#sk-container-id-6 div.sk-estimator {font-family: monospace;background-color: #f0f8ff;border: 1px dotted black;border-radius: 0.25em;box-sizing: border-box;margin-bottom: 0.5em;}#sk-container-id-6 div.sk-estimator:hover {background-color: #d4ebff;}#sk-container-id-6 div.sk-parallel-item::after {content: \"\";width: 100%;border-bottom: 1px solid gray;flex-grow: 1;}#sk-container-id-6 div.sk-label:hover label.sk-toggleable__label {background-color: #d4ebff;}#sk-container-id-6 div.sk-serial::before {content: \"\";position: absolute;border-left: 1px solid gray;box-sizing: border-box;top: 0;bottom: 0;left: 50%;z-index: 0;}#sk-container-id-6 div.sk-serial {display: flex;flex-direction: column;align-items: center;background-color: white;padding-right: 0.2em;padding-left: 0.2em;position: relative;}#sk-container-id-6 div.sk-item {position: relative;z-index: 1;}#sk-container-id-6 div.sk-parallel {display: flex;align-items: stretch;justify-content: center;background-color: white;position: relative;}#sk-container-id-6 div.sk-item::before, #sk-container-id-6 div.sk-parallel-item::before {content: \"\";position: absolute;border-left: 1px solid gray;box-sizing: border-box;top: 0;bottom: 0;left: 50%;z-index: -1;}#sk-container-id-6 div.sk-parallel-item {display: flex;flex-direction: column;z-index: 1;position: relative;background-color: white;}#sk-container-id-6 div.sk-parallel-item:first-child::after {align-self: flex-end;width: 50%;}#sk-container-id-6 div.sk-parallel-item:last-child::after {align-self: flex-start;width: 50%;}#sk-container-id-6 div.sk-parallel-item:only-child::after {width: 0;}#sk-container-id-6 div.sk-dashed-wrapped {border: 1px dashed gray;margin: 0 0.4em 0.5em 0.4em;box-sizing: border-box;padding-bottom: 0.4em;background-color: white;}#sk-container-id-6 div.sk-label label {font-family: monospace;font-weight: bold;display: inline-block;line-height: 1.2em;}#sk-container-id-6 div.sk-label-container {text-align: center;}#sk-container-id-6 div.sk-container {/* jupyter's `normalize.less` sets `[hidden] { display: none; }` but bootstrap.min.css set `[hidden] { display: none !important; }` so we also need the `!important` here to be able to override the default hidden behavior on the sphinx rendered scikit-learn.org. See: https://github.com/scikit-learn/scikit-learn/issues/21755 */display: inline-block !important;position: relative;}#sk-container-id-6 div.sk-text-repr-fallback {display: none;}</style><div id=\"sk-container-id-6\" class=\"sk-top-container\"><div class=\"sk-text-repr-fallback\"><pre>XGBClassifier(base_score=0.5, booster=&#x27;gbtree&#x27;, callbacks=None,\n",
       "              colsample_bylevel=1, colsample_bynode=1, colsample_bytree=1,\n",
       "              early_stopping_rounds=None, enable_categorical=False,\n",
       "              eval_metric=None, gamma=0, gpu_id=-1, grow_policy=&#x27;depthwise&#x27;,\n",
       "              importance_type=None, interaction_constraints=&#x27;&#x27;,\n",
       "              learning_rate=0.300000012, max_bin=256, max_cat_to_onehot=4,\n",
       "              max_delta_step=0, max_depth=6, max_leaves=0, min_child_weight=1,\n",
       "              missing=nan, monotone_constraints=&#x27;()&#x27;, n_estimators=100,\n",
       "              n_jobs=0, num_parallel_tree=1, predictor=&#x27;auto&#x27;, random_state=0,\n",
       "              reg_alpha=0, reg_lambda=1, ...)</pre><b>In a Jupyter environment, please rerun this cell to show the HTML representation or trust the notebook. <br />On GitHub, the HTML representation is unable to render, please try loading this page with nbviewer.org.</b></div><div class=\"sk-container\" hidden><div class=\"sk-item\"><div class=\"sk-estimator sk-toggleable\"><input class=\"sk-toggleable__control sk-hidden--visually\" id=\"sk-estimator-id-6\" type=\"checkbox\" checked><label for=\"sk-estimator-id-6\" class=\"sk-toggleable__label sk-toggleable__label-arrow\">XGBClassifier</label><div class=\"sk-toggleable__content\"><pre>XGBClassifier(base_score=0.5, booster=&#x27;gbtree&#x27;, callbacks=None,\n",
       "              colsample_bylevel=1, colsample_bynode=1, colsample_bytree=1,\n",
       "              early_stopping_rounds=None, enable_categorical=False,\n",
       "              eval_metric=None, gamma=0, gpu_id=-1, grow_policy=&#x27;depthwise&#x27;,\n",
       "              importance_type=None, interaction_constraints=&#x27;&#x27;,\n",
       "              learning_rate=0.300000012, max_bin=256, max_cat_to_onehot=4,\n",
       "              max_delta_step=0, max_depth=6, max_leaves=0, min_child_weight=1,\n",
       "              missing=nan, monotone_constraints=&#x27;()&#x27;, n_estimators=100,\n",
       "              n_jobs=0, num_parallel_tree=1, predictor=&#x27;auto&#x27;, random_state=0,\n",
       "              reg_alpha=0, reg_lambda=1, ...)</pre></div></div></div></div></div>"
      ],
      "text/plain": [
       "XGBClassifier(base_score=0.5, booster='gbtree', callbacks=None,\n",
       "              colsample_bylevel=1, colsample_bynode=1, colsample_bytree=1,\n",
       "              early_stopping_rounds=None, enable_categorical=False,\n",
       "              eval_metric=None, gamma=0, gpu_id=-1, grow_policy='depthwise',\n",
       "              importance_type=None, interaction_constraints='',\n",
       "              learning_rate=0.300000012, max_bin=256, max_cat_to_onehot=4,\n",
       "              max_delta_step=0, max_depth=6, max_leaves=0, min_child_weight=1,\n",
       "              missing=nan, monotone_constraints='()', n_estimators=100,\n",
       "              n_jobs=0, num_parallel_tree=1, predictor='auto', random_state=0,\n",
       "              reg_alpha=0, reg_lambda=1, ...)"
      ]
     },
     "execution_count": 711,
     "metadata": {},
     "output_type": "execute_result"
    }
   ],
   "source": [
    "model.fit(X_train,y_train)"
   ]
  },
  {
   "cell_type": "code",
   "execution_count": 712,
   "id": "a776cfb6-2dc2-422d-80aa-a4c0d5ce4bc9",
   "metadata": {},
   "outputs": [],
   "source": [
    "preds = model.predict(X_test)"
   ]
  },
  {
   "cell_type": "code",
   "execution_count": 713,
   "id": "c0c23897-7365-49f7-965d-b89722f7aca2",
   "metadata": {},
   "outputs": [
    {
     "data": {
      "text/plain": [
       "array([0, 0, 0, ..., 0, 0, 0])"
      ]
     },
     "execution_count": 713,
     "metadata": {},
     "output_type": "execute_result"
    }
   ],
   "source": [
    "preds"
   ]
  },
  {
   "cell_type": "code",
   "execution_count": 730,
   "id": "d92caa24-1dad-4c17-8357-a35a3617ea26",
   "metadata": {},
   "outputs": [
    {
     "data": {
      "text/plain": [
       "array([0, 1])"
      ]
     },
     "execution_count": 730,
     "metadata": {},
     "output_type": "execute_result"
    }
   ],
   "source": [
    "model.classes_"
   ]
  },
  {
   "cell_type": "code",
   "execution_count": 720,
   "id": "bb3e9903-99ff-4ddb-aa5a-2a32220026d0",
   "metadata": {},
   "outputs": [],
   "source": [
    "scores = model.predict_proba(X_test)[:,1]"
   ]
  },
  {
   "cell_type": "code",
   "execution_count": 721,
   "id": "6b8cfe99-2546-4edf-8457-aa8e8dea780c",
   "metadata": {},
   "outputs": [
    {
     "data": {
      "text/plain": [
       "array([0.02230356, 0.02459993, 0.02376001, ..., 0.01113816, 0.04303354,\n",
       "       0.06708481], dtype=float32)"
      ]
     },
     "execution_count": 721,
     "metadata": {},
     "output_type": "execute_result"
    }
   ],
   "source": [
    "scores"
   ]
  },
  {
   "cell_type": "code",
   "execution_count": 732,
   "id": "43080bd4-2b37-416c-ac48-9c42eb9abb8d",
   "metadata": {},
   "outputs": [],
   "source": [
    "X_test['preds'] = preds"
   ]
  },
  {
   "cell_type": "code",
   "execution_count": 736,
   "id": "33b257c2-bcee-4423-be41-4bff32734650",
   "metadata": {},
   "outputs": [
    {
     "data": {
      "text/html": [
       "<div>\n",
       "<style scoped>\n",
       "    .dataframe tbody tr th:only-of-type {\n",
       "        vertical-align: middle;\n",
       "    }\n",
       "\n",
       "    .dataframe tbody tr th {\n",
       "        vertical-align: top;\n",
       "    }\n",
       "\n",
       "    .dataframe thead th {\n",
       "        text-align: right;\n",
       "    }\n",
       "</style>\n",
       "<table border=\"1\" class=\"dataframe\">\n",
       "  <thead>\n",
       "    <tr style=\"text-align: right;\">\n",
       "      <th></th>\n",
       "      <th>RefId</th>\n",
       "      <th>PurchDate</th>\n",
       "      <th>Auction</th>\n",
       "      <th>VehYear</th>\n",
       "      <th>VehicleAge</th>\n",
       "      <th>Make</th>\n",
       "      <th>Model</th>\n",
       "      <th>Trim</th>\n",
       "      <th>SubModel</th>\n",
       "      <th>Color</th>\n",
       "      <th>Transmission</th>\n",
       "      <th>WheelTypeID</th>\n",
       "      <th>WheelType</th>\n",
       "      <th>VehOdo</th>\n",
       "      <th>Nationality</th>\n",
       "      <th>Size</th>\n",
       "      <th>TopThreeAmericanName</th>\n",
       "      <th>MMRAcquisitionAuctionAveragePrice</th>\n",
       "      <th>MMRAcquisitionAuctionCleanPrice</th>\n",
       "      <th>MMRAcquisitionRetailAveragePrice</th>\n",
       "      <th>MMRAcquisitonRetailCleanPrice</th>\n",
       "      <th>MMRCurrentAuctionAveragePrice</th>\n",
       "      <th>MMRCurrentAuctionCleanPrice</th>\n",
       "      <th>MMRCurrentRetailAveragePrice</th>\n",
       "      <th>MMRCurrentRetailCleanPrice</th>\n",
       "      <th>PRIMEUNIT</th>\n",
       "      <th>AUCGUART</th>\n",
       "      <th>BYRNO</th>\n",
       "      <th>VNZIP1</th>\n",
       "      <th>VNST</th>\n",
       "      <th>VehBCost</th>\n",
       "      <th>IsOnlineSale</th>\n",
       "      <th>WarrantyCost</th>\n",
       "      <th>preds</th>\n",
       "    </tr>\n",
       "  </thead>\n",
       "  <tbody>\n",
       "    <tr>\n",
       "      <th>64709</th>\n",
       "      <td>60797</td>\n",
       "      <td>147</td>\n",
       "      <td>0</td>\n",
       "      <td>0</td>\n",
       "      <td>9</td>\n",
       "      <td>4</td>\n",
       "      <td>718</td>\n",
       "      <td>7</td>\n",
       "      <td>152</td>\n",
       "      <td>14</td>\n",
       "      <td>0</td>\n",
       "      <td>1</td>\n",
       "      <td>0</td>\n",
       "      <td>68832</td>\n",
       "      <td>0</td>\n",
       "      <td>5</td>\n",
       "      <td>0</td>\n",
       "      <td>2465.0</td>\n",
       "      <td>3202.0</td>\n",
       "      <td>4807.0</td>\n",
       "      <td>5673.0</td>\n",
       "      <td>2341.0</td>\n",
       "      <td>3053.0</td>\n",
       "      <td>4783.0</td>\n",
       "      <td>5599.0</td>\n",
       "      <td>2</td>\n",
       "      <td>2</td>\n",
       "      <td>44</td>\n",
       "      <td>124</td>\n",
       "      <td>2</td>\n",
       "      <td>4440.00</td>\n",
       "      <td>0</td>\n",
       "      <td>1515</td>\n",
       "      <td>1</td>\n",
       "    </tr>\n",
       "    <tr>\n",
       "      <th>34036</th>\n",
       "      <td>26719</td>\n",
       "      <td>67</td>\n",
       "      <td>1</td>\n",
       "      <td>5</td>\n",
       "      <td>3</td>\n",
       "      <td>13</td>\n",
       "      <td>208</td>\n",
       "      <td>63</td>\n",
       "      <td>507</td>\n",
       "      <td>1</td>\n",
       "      <td>0</td>\n",
       "      <td>1</td>\n",
       "      <td>0</td>\n",
       "      <td>55452</td>\n",
       "      <td>0</td>\n",
       "      <td>3</td>\n",
       "      <td>0</td>\n",
       "      <td>17229.0</td>\n",
       "      <td>19745.0</td>\n",
       "      <td>19107.0</td>\n",
       "      <td>21825.0</td>\n",
       "      <td>17240.0</td>\n",
       "      <td>19769.0</td>\n",
       "      <td>21688.0</td>\n",
       "      <td>24396.0</td>\n",
       "      <td>2</td>\n",
       "      <td>2</td>\n",
       "      <td>57</td>\n",
       "      <td>111</td>\n",
       "      <td>4</td>\n",
       "      <td>15600.76</td>\n",
       "      <td>0</td>\n",
       "      <td>1583</td>\n",
       "      <td>1</td>\n",
       "    </tr>\n",
       "    <tr>\n",
       "      <th>66715</th>\n",
       "      <td>63025</td>\n",
       "      <td>317</td>\n",
       "      <td>0</td>\n",
       "      <td>6</td>\n",
       "      <td>3</td>\n",
       "      <td>29</td>\n",
       "      <td>142</td>\n",
       "      <td>53</td>\n",
       "      <td>185</td>\n",
       "      <td>13</td>\n",
       "      <td>0</td>\n",
       "      <td>4</td>\n",
       "      <td>3</td>\n",
       "      <td>71891</td>\n",
       "      <td>3</td>\n",
       "      <td>5</td>\n",
       "      <td>3</td>\n",
       "      <td>10169.0</td>\n",
       "      <td>11129.0</td>\n",
       "      <td>14035.0</td>\n",
       "      <td>15202.0</td>\n",
       "      <td>10169.0</td>\n",
       "      <td>11129.0</td>\n",
       "      <td>14035.0</td>\n",
       "      <td>15202.0</td>\n",
       "      <td>2</td>\n",
       "      <td>2</td>\n",
       "      <td>38</td>\n",
       "      <td>20</td>\n",
       "      <td>19</td>\n",
       "      <td>10175.00</td>\n",
       "      <td>0</td>\n",
       "      <td>569</td>\n",
       "      <td>1</td>\n",
       "    </tr>\n",
       "    <tr>\n",
       "      <th>35705</th>\n",
       "      <td>28573</td>\n",
       "      <td>436</td>\n",
       "      <td>1</td>\n",
       "      <td>2</td>\n",
       "      <td>6</td>\n",
       "      <td>4</td>\n",
       "      <td>721</td>\n",
       "      <td>7</td>\n",
       "      <td>152</td>\n",
       "      <td>2</td>\n",
       "      <td>0</td>\n",
       "      <td>2</td>\n",
       "      <td>1</td>\n",
       "      <td>76378</td>\n",
       "      <td>0</td>\n",
       "      <td>5</td>\n",
       "      <td>0</td>\n",
       "      <td>2910.0</td>\n",
       "      <td>3728.0</td>\n",
       "      <td>3643.0</td>\n",
       "      <td>4526.0</td>\n",
       "      <td>3104.0</td>\n",
       "      <td>3831.0</td>\n",
       "      <td>3852.0</td>\n",
       "      <td>4637.0</td>\n",
       "      <td>2</td>\n",
       "      <td>2</td>\n",
       "      <td>29</td>\n",
       "      <td>10</td>\n",
       "      <td>34</td>\n",
       "      <td>4500.00</td>\n",
       "      <td>0</td>\n",
       "      <td>1689</td>\n",
       "      <td>1</td>\n",
       "    </tr>\n",
       "    <tr>\n",
       "      <th>56041</th>\n",
       "      <td>51165</td>\n",
       "      <td>19</td>\n",
       "      <td>2</td>\n",
       "      <td>1</td>\n",
       "      <td>8</td>\n",
       "      <td>5</td>\n",
       "      <td>662</td>\n",
       "      <td>7</td>\n",
       "      <td>152</td>\n",
       "      <td>13</td>\n",
       "      <td>0</td>\n",
       "      <td>1</td>\n",
       "      <td>0</td>\n",
       "      <td>79587</td>\n",
       "      <td>0</td>\n",
       "      <td>0</td>\n",
       "      <td>0</td>\n",
       "      <td>1536.0</td>\n",
       "      <td>2172.0</td>\n",
       "      <td>4383.0</td>\n",
       "      <td>4812.0</td>\n",
       "      <td>1722.0</td>\n",
       "      <td>2410.0</td>\n",
       "      <td>4174.0</td>\n",
       "      <td>5068.0</td>\n",
       "      <td>2</td>\n",
       "      <td>2</td>\n",
       "      <td>35</td>\n",
       "      <td>27</td>\n",
       "      <td>6</td>\n",
       "      <td>3200.00</td>\n",
       "      <td>0</td>\n",
       "      <td>986</td>\n",
       "      <td>1</td>\n",
       "    </tr>\n",
       "    <tr>\n",
       "      <th>...</th>\n",
       "      <td>...</td>\n",
       "      <td>...</td>\n",
       "      <td>...</td>\n",
       "      <td>...</td>\n",
       "      <td>...</td>\n",
       "      <td>...</td>\n",
       "      <td>...</td>\n",
       "      <td>...</td>\n",
       "      <td>...</td>\n",
       "      <td>...</td>\n",
       "      <td>...</td>\n",
       "      <td>...</td>\n",
       "      <td>...</td>\n",
       "      <td>...</td>\n",
       "      <td>...</td>\n",
       "      <td>...</td>\n",
       "      <td>...</td>\n",
       "      <td>...</td>\n",
       "      <td>...</td>\n",
       "      <td>...</td>\n",
       "      <td>...</td>\n",
       "      <td>...</td>\n",
       "      <td>...</td>\n",
       "      <td>...</td>\n",
       "      <td>...</td>\n",
       "      <td>...</td>\n",
       "      <td>...</td>\n",
       "      <td>...</td>\n",
       "      <td>...</td>\n",
       "      <td>...</td>\n",
       "      <td>...</td>\n",
       "      <td>...</td>\n",
       "      <td>...</td>\n",
       "      <td>...</td>\n",
       "    </tr>\n",
       "    <tr>\n",
       "      <th>54686</th>\n",
       "      <td>49660</td>\n",
       "      <td>483</td>\n",
       "      <td>2</td>\n",
       "      <td>4</td>\n",
       "      <td>4</td>\n",
       "      <td>3</td>\n",
       "      <td>197</td>\n",
       "      <td>7</td>\n",
       "      <td>152</td>\n",
       "      <td>14</td>\n",
       "      <td>0</td>\n",
       "      <td>4</td>\n",
       "      <td>3</td>\n",
       "      <td>84323</td>\n",
       "      <td>0</td>\n",
       "      <td>0</td>\n",
       "      <td>2</td>\n",
       "      <td>4965.0</td>\n",
       "      <td>6233.0</td>\n",
       "      <td>5862.0</td>\n",
       "      <td>7232.0</td>\n",
       "      <td>4987.0</td>\n",
       "      <td>6298.0</td>\n",
       "      <td>5886.0</td>\n",
       "      <td>7302.0</td>\n",
       "      <td>2</td>\n",
       "      <td>2</td>\n",
       "      <td>68</td>\n",
       "      <td>87</td>\n",
       "      <td>27</td>\n",
       "      <td>4910.00</td>\n",
       "      <td>0</td>\n",
       "      <td>853</td>\n",
       "      <td>1</td>\n",
       "    </tr>\n",
       "    <tr>\n",
       "      <th>18065</th>\n",
       "      <td>8973</td>\n",
       "      <td>445</td>\n",
       "      <td>2</td>\n",
       "      <td>4</td>\n",
       "      <td>5</td>\n",
       "      <td>6</td>\n",
       "      <td>651</td>\n",
       "      <td>7</td>\n",
       "      <td>12</td>\n",
       "      <td>12</td>\n",
       "      <td>0</td>\n",
       "      <td>4</td>\n",
       "      <td>3</td>\n",
       "      <td>71854</td>\n",
       "      <td>0</td>\n",
       "      <td>10</td>\n",
       "      <td>1</td>\n",
       "      <td>8082.0</td>\n",
       "      <td>9492.0</td>\n",
       "      <td>11155.0</td>\n",
       "      <td>12653.0</td>\n",
       "      <td>7977.0</td>\n",
       "      <td>9429.0</td>\n",
       "      <td>11679.0</td>\n",
       "      <td>12880.0</td>\n",
       "      <td>2</td>\n",
       "      <td>2</td>\n",
       "      <td>28</td>\n",
       "      <td>118</td>\n",
       "      <td>33</td>\n",
       "      <td>8410.00</td>\n",
       "      <td>1</td>\n",
       "      <td>803</td>\n",
       "      <td>1</td>\n",
       "    </tr>\n",
       "    <tr>\n",
       "      <th>70455</th>\n",
       "      <td>67181</td>\n",
       "      <td>18</td>\n",
       "      <td>0</td>\n",
       "      <td>0</td>\n",
       "      <td>8</td>\n",
       "      <td>3</td>\n",
       "      <td>565</td>\n",
       "      <td>7</td>\n",
       "      <td>152</td>\n",
       "      <td>13</td>\n",
       "      <td>0</td>\n",
       "      <td>2</td>\n",
       "      <td>1</td>\n",
       "      <td>74237</td>\n",
       "      <td>0</td>\n",
       "      <td>5</td>\n",
       "      <td>2</td>\n",
       "      <td>1920.0</td>\n",
       "      <td>2715.0</td>\n",
       "      <td>2574.0</td>\n",
       "      <td>3432.0</td>\n",
       "      <td>1881.0</td>\n",
       "      <td>2723.0</td>\n",
       "      <td>2531.0</td>\n",
       "      <td>3441.0</td>\n",
       "      <td>2</td>\n",
       "      <td>2</td>\n",
       "      <td>42</td>\n",
       "      <td>103</td>\n",
       "      <td>32</td>\n",
       "      <td>3170.00</td>\n",
       "      <td>0</td>\n",
       "      <td>2508</td>\n",
       "      <td>1</td>\n",
       "    </tr>\n",
       "    <tr>\n",
       "      <th>17789</th>\n",
       "      <td>8667</td>\n",
       "      <td>440</td>\n",
       "      <td>2</td>\n",
       "      <td>5</td>\n",
       "      <td>3</td>\n",
       "      <td>6</td>\n",
       "      <td>375</td>\n",
       "      <td>127</td>\n",
       "      <td>312</td>\n",
       "      <td>0</td>\n",
       "      <td>0</td>\n",
       "      <td>4</td>\n",
       "      <td>3</td>\n",
       "      <td>61583</td>\n",
       "      <td>0</td>\n",
       "      <td>0</td>\n",
       "      <td>1</td>\n",
       "      <td>4364.0</td>\n",
       "      <td>5434.0</td>\n",
       "      <td>5213.0</td>\n",
       "      <td>6369.0</td>\n",
       "      <td>4364.0</td>\n",
       "      <td>5434.0</td>\n",
       "      <td>5213.0</td>\n",
       "      <td>6369.0</td>\n",
       "      <td>2</td>\n",
       "      <td>2</td>\n",
       "      <td>57</td>\n",
       "      <td>118</td>\n",
       "      <td>33</td>\n",
       "      <td>6210.00</td>\n",
       "      <td>0</td>\n",
       "      <td>1020</td>\n",
       "      <td>1</td>\n",
       "    </tr>\n",
       "    <tr>\n",
       "      <th>45555</th>\n",
       "      <td>39513</td>\n",
       "      <td>49</td>\n",
       "      <td>2</td>\n",
       "      <td>0</td>\n",
       "      <td>9</td>\n",
       "      <td>6</td>\n",
       "      <td>651</td>\n",
       "      <td>7</td>\n",
       "      <td>12</td>\n",
       "      <td>8</td>\n",
       "      <td>0</td>\n",
       "      <td>4</td>\n",
       "      <td>3</td>\n",
       "      <td>93287</td>\n",
       "      <td>0</td>\n",
       "      <td>10</td>\n",
       "      <td>1</td>\n",
       "      <td>2827.0</td>\n",
       "      <td>3736.0</td>\n",
       "      <td>5871.0</td>\n",
       "      <td>6813.0</td>\n",
       "      <td>2826.0</td>\n",
       "      <td>3620.0</td>\n",
       "      <td>6194.0</td>\n",
       "      <td>6861.0</td>\n",
       "      <td>2</td>\n",
       "      <td>2</td>\n",
       "      <td>53</td>\n",
       "      <td>113</td>\n",
       "      <td>4</td>\n",
       "      <td>3410.00</td>\n",
       "      <td>0</td>\n",
       "      <td>1209</td>\n",
       "      <td>1</td>\n",
       "    </tr>\n",
       "  </tbody>\n",
       "</table>\n",
       "<p>693 rows × 34 columns</p>\n",
       "</div>"
      ],
      "text/plain": [
       "       RefId  PurchDate  Auction  VehYear  VehicleAge  Make  Model  Trim  \\\n",
       "64709  60797        147        0        0           9     4    718     7   \n",
       "34036  26719         67        1        5           3    13    208    63   \n",
       "66715  63025        317        0        6           3    29    142    53   \n",
       "35705  28573        436        1        2           6     4    721     7   \n",
       "56041  51165         19        2        1           8     5    662     7   \n",
       "...      ...        ...      ...      ...         ...   ...    ...   ...   \n",
       "54686  49660        483        2        4           4     3    197     7   \n",
       "18065   8973        445        2        4           5     6    651     7   \n",
       "70455  67181         18        0        0           8     3    565     7   \n",
       "17789   8667        440        2        5           3     6    375   127   \n",
       "45555  39513         49        2        0           9     6    651     7   \n",
       "\n",
       "       SubModel  Color  Transmission  WheelTypeID  WheelType  VehOdo  \\\n",
       "64709       152     14             0            1          0   68832   \n",
       "34036       507      1             0            1          0   55452   \n",
       "66715       185     13             0            4          3   71891   \n",
       "35705       152      2             0            2          1   76378   \n",
       "56041       152     13             0            1          0   79587   \n",
       "...         ...    ...           ...          ...        ...     ...   \n",
       "54686       152     14             0            4          3   84323   \n",
       "18065        12     12             0            4          3   71854   \n",
       "70455       152     13             0            2          1   74237   \n",
       "17789       312      0             0            4          3   61583   \n",
       "45555        12      8             0            4          3   93287   \n",
       "\n",
       "       Nationality  Size  TopThreeAmericanName  \\\n",
       "64709            0     5                     0   \n",
       "34036            0     3                     0   \n",
       "66715            3     5                     3   \n",
       "35705            0     5                     0   \n",
       "56041            0     0                     0   \n",
       "...            ...   ...                   ...   \n",
       "54686            0     0                     2   \n",
       "18065            0    10                     1   \n",
       "70455            0     5                     2   \n",
       "17789            0     0                     1   \n",
       "45555            0    10                     1   \n",
       "\n",
       "       MMRAcquisitionAuctionAveragePrice  MMRAcquisitionAuctionCleanPrice  \\\n",
       "64709                             2465.0                           3202.0   \n",
       "34036                            17229.0                          19745.0   \n",
       "66715                            10169.0                          11129.0   \n",
       "35705                             2910.0                           3728.0   \n",
       "56041                             1536.0                           2172.0   \n",
       "...                                  ...                              ...   \n",
       "54686                             4965.0                           6233.0   \n",
       "18065                             8082.0                           9492.0   \n",
       "70455                             1920.0                           2715.0   \n",
       "17789                             4364.0                           5434.0   \n",
       "45555                             2827.0                           3736.0   \n",
       "\n",
       "       MMRAcquisitionRetailAveragePrice  MMRAcquisitonRetailCleanPrice  \\\n",
       "64709                            4807.0                         5673.0   \n",
       "34036                           19107.0                        21825.0   \n",
       "66715                           14035.0                        15202.0   \n",
       "35705                            3643.0                         4526.0   \n",
       "56041                            4383.0                         4812.0   \n",
       "...                                 ...                            ...   \n",
       "54686                            5862.0                         7232.0   \n",
       "18065                           11155.0                        12653.0   \n",
       "70455                            2574.0                         3432.0   \n",
       "17789                            5213.0                         6369.0   \n",
       "45555                            5871.0                         6813.0   \n",
       "\n",
       "       MMRCurrentAuctionAveragePrice  MMRCurrentAuctionCleanPrice  \\\n",
       "64709                         2341.0                       3053.0   \n",
       "34036                        17240.0                      19769.0   \n",
       "66715                        10169.0                      11129.0   \n",
       "35705                         3104.0                       3831.0   \n",
       "56041                         1722.0                       2410.0   \n",
       "...                              ...                          ...   \n",
       "54686                         4987.0                       6298.0   \n",
       "18065                         7977.0                       9429.0   \n",
       "70455                         1881.0                       2723.0   \n",
       "17789                         4364.0                       5434.0   \n",
       "45555                         2826.0                       3620.0   \n",
       "\n",
       "       MMRCurrentRetailAveragePrice  MMRCurrentRetailCleanPrice  PRIMEUNIT  \\\n",
       "64709                        4783.0                      5599.0          2   \n",
       "34036                       21688.0                     24396.0          2   \n",
       "66715                       14035.0                     15202.0          2   \n",
       "35705                        3852.0                      4637.0          2   \n",
       "56041                        4174.0                      5068.0          2   \n",
       "...                             ...                         ...        ...   \n",
       "54686                        5886.0                      7302.0          2   \n",
       "18065                       11679.0                     12880.0          2   \n",
       "70455                        2531.0                      3441.0          2   \n",
       "17789                        5213.0                      6369.0          2   \n",
       "45555                        6194.0                      6861.0          2   \n",
       "\n",
       "       AUCGUART  BYRNO  VNZIP1  VNST  VehBCost  IsOnlineSale  WarrantyCost  \\\n",
       "64709         2     44     124     2   4440.00             0          1515   \n",
       "34036         2     57     111     4  15600.76             0          1583   \n",
       "66715         2     38      20    19  10175.00             0           569   \n",
       "35705         2     29      10    34   4500.00             0          1689   \n",
       "56041         2     35      27     6   3200.00             0           986   \n",
       "...         ...    ...     ...   ...       ...           ...           ...   \n",
       "54686         2     68      87    27   4910.00             0           853   \n",
       "18065         2     28     118    33   8410.00             1           803   \n",
       "70455         2     42     103    32   3170.00             0          2508   \n",
       "17789         2     57     118    33   6210.00             0          1020   \n",
       "45555         2     53     113     4   3410.00             0          1209   \n",
       "\n",
       "       preds  \n",
       "64709      1  \n",
       "34036      1  \n",
       "66715      1  \n",
       "35705      1  \n",
       "56041      1  \n",
       "...      ...  \n",
       "54686      1  \n",
       "18065      1  \n",
       "70455      1  \n",
       "17789      1  \n",
       "45555      1  \n",
       "\n",
       "[693 rows x 34 columns]"
      ]
     },
     "execution_count": 736,
     "metadata": {},
     "output_type": "execute_result"
    }
   ],
   "source": [
    "X_test.loc[X_test['preds']==1,:]"
   ]
  },
  {
   "cell_type": "code",
   "execution_count": 722,
   "id": "550137f5-24d1-45c1-8112-67a050b03849",
   "metadata": {},
   "outputs": [
    {
     "data": {
      "text/plain": [
       "Text(0.5, 0, 'Xgboost Feature Importance')"
      ]
     },
     "execution_count": 722,
     "metadata": {},
     "output_type": "execute_result"
    },
    {
     "data": {
      "image/png": "[encoded data removed]",
      "text/plain": [
       "<Figure size 432x288 with 1 Axes>"
      ]
     },
     "metadata": {
      "needs_background": "light"
     },
     "output_type": "display_data"
    },
    {
     "data": {
      "image/png": "[encoded data removed]",
      "text/plain": [
       "<Figure size 432x288 with 1 Axes>"
      ]
     },
     "metadata": {
      "needs_background": "light"
     },
     "output_type": "display_data"
    },
    {
     "data": {
      "image/png": "[encoded data removed]",
      "text/plain": [
       "<Figure size 1440x1440 with 1 Axes>"
      ]
     },
     "metadata": {
      "needs_background": "light"
     },
     "output_type": "display_data"
    }
   ],
   "source": [
    "display = PrecisionRecallDisplay.from_predictions(y_test, scores, name=\"xgb simple aggregates\")\n",
    "_ = display.ax_.set_title(\"2-class Precision-Recall curve\")\n",
    "\n",
    "RocCurveDisplay.from_predictions(y_test, scores, name=\"xgb simple aggregates\")\n",
    "\n",
    "sorted_idx = model.feature_importances_.argsort()\n",
    "plt.figure(figsize= (20,20))\n",
    "plt.barh([X.columns[x] for x in sorted_idx], model.feature_importances_[sorted_idx])\n",
    "plt.xlabel(\"Xgboost Feature Importance\")"
   ]
  },
  {
   "cell_type": "markdown",
   "id": "628b4b77-4b77-4370-bca3-19e990c88658",
   "metadata": {},
   "source": [
    "#### predict for submission"
   ]
  },
  {
   "cell_type": "code",
   "execution_count": 738,
   "id": "51dd2a43-20cd-410b-b81a-45df9b56722d",
   "metadata": {},
   "outputs": [],
   "source": [
    "preds_test = model.predict(df_test)"
   ]
  },
  {
   "cell_type": "code",
   "execution_count": 739,
   "id": "71d6cb56-9a3b-4ac0-96d5-f9d3ffd0be09",
   "metadata": {},
   "outputs": [
    {
     "data": {
      "text/plain": [
       "array([0, 0, 0, ..., 0, 0, 0])"
      ]
     },
     "execution_count": 739,
     "metadata": {},
     "output_type": "execute_result"
    }
   ],
   "source": [
    "preds_test"
   ]
  },
  {
   "cell_type": "code",
   "execution_count": 740,
   "id": "2e1b20e2-71c5-4e28-bead-86d2329690f6",
   "metadata": {},
   "outputs": [],
   "source": [
    "df_submission = pd.DataFrame()"
   ]
  },
  {
   "cell_type": "code",
   "execution_count": 742,
   "id": "51a612b5-bcfe-4290-bac7-16140b8be26e",
   "metadata": {},
   "outputs": [],
   "source": [
    "df_submission['RefId'] = df_test['RefId']"
   ]
  },
  {
   "cell_type": "code",
   "execution_count": 744,
   "id": "61e36612-87a7-441f-974e-c4e785a94e55",
   "metadata": {},
   "outputs": [],
   "source": [
    "df_submission['IsBadBuy'] = preds_test"
   ]
  },
  {
   "cell_type": "code",
   "execution_count": 750,
   "id": "d6a2c458-4c80-4c15-b80f-b678a4b6d06e",
   "metadata": {},
   "outputs": [],
   "source": [
    "df_submission.to_csv('C:/Users/Edward.Moradian/OneDrive - Microsoft/Desktop/Home/Practice/kaggle/kicked/df_submission.csv',index=False)"
   ]
  }
 ],
 "metadata": {
  "kernelspec": {
   "display_name": "Python 3 (ipykernel)",
   "language": "python",
   "name": "python3"
  },
  "language_info": {
   "codemirror_mode": {
    "name": "ipython",
    "version": 3
   },
   "file_extension": ".py",
   "mimetype": "text/x-python",
   "name": "python",
   "nbconvert_exporter": "python",
   "pygments_lexer": "ipython3",
   "version": "3.9.12"
  }
 },
 "nbformat": 4,
 "nbformat_minor": 5
}
